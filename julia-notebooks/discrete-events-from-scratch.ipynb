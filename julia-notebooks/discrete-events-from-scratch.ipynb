{
 "cells": [
  {
   "cell_type": "markdown",
   "metadata": {
    "slideshow": {
     "slide_type": "slide"
    }
   },
   "source": [
    "# Simple discrete-event simulator \"from scratch\" #\n",
    "\n",
    "To see in more detail how a discrete-event simulation engine works, let's build one from scratch in Python."
   ]
  },
  {
   "cell_type": "markdown",
   "metadata": {
    "slideshow": {
     "slide_type": "fragment"
    }
   },
   "source": [
    "In any discrete-event simulation, we have the following core components:\n",
    "\n",
    "* **Time** refers to that in the **simulation** (simulated world), unless otherwise specified\n",
    "* An **event** is a timestamped callback function that maps an initial state to a new state\n",
    "* The **future event list** is a global priority queue of events, ordered by (logical) time\n",
    "* The **simulation engine** runs a loop that extracts each event and executes it\n",
    "\n",
    "These constitute a generic simulation engine, which is _independent_ of the \"physical\" system we might be simulating. Let's start by implementing each one in turn."
   ]
  },
  {
   "cell_type": "markdown",
   "metadata": {
    "slideshow": {
     "slide_type": "skip"
    }
   },
   "source": [
    "## Setup or helper code ##"
   ]
  },
  {
   "cell_type": "code",
   "execution_count": null,
   "metadata": {
    "slideshow": {
     "slide_type": "skip"
    }
   },
   "outputs": [],
   "source": [
    "from pprint import pprint # pretty-printing basic data structures"
   ]
  },
  {
   "cell_type": "code",
   "execution_count": null,
   "metadata": {
    "slideshow": {
     "slide_type": "skip"
    }
   },
   "outputs": [],
   "source": [
    "# https://stackoverflow.com/questions/279561/what-is-the-python-equivalent-of-static-variables-inside-a-function\n",
    "def static_vars(**kwargs):\n",
    "    def decorate(func):\n",
    "        for k in kwargs:\n",
    "            setattr(func, k, kwargs[k])\n",
    "        return func\n",
    "    return decorate"
   ]
  },
  {
   "cell_type": "markdown",
   "metadata": {
    "slideshow": {
     "slide_type": "slide"
    }
   },
   "source": [
    "## Time ##\n",
    "\n",
    "Let's assume there is a global clock that maintains the current time in the simulation. This clock may be accessed via the function, `now()`."
   ]
  },
  {
   "cell_type": "code",
   "execution_count": null,
   "metadata": {
    "slideshow": {
     "slide_type": "fragment"
    }
   },
   "outputs": [],
   "source": [
    "@static_vars(t=0)\n",
    "def now():\n",
    "    return now.t\n",
    "\n",
    "print(\"The current simulation time is\", now(), \"o'clock.\")"
   ]
  },
  {
   "cell_type": "markdown",
   "metadata": {
    "slideshow": {
     "slide_type": "fragment"
    }
   },
   "source": [
    "> Note: `static_vars` is a custom decorator that creates a static variable (locally defined, globally existing) with the given initial value. It's analogous to the `static` keyword in C/C++/Java. See [this link](https://stackoverflow.com/questions/279561/what-is-the-python-equivalent-of-static-variables-inside-a-function) for details."
   ]
  },
  {
   "cell_type": "markdown",
   "metadata": {
    "slideshow": {
     "slide_type": "subslide"
    }
   },
   "source": [
    "Let's assume two additional helper functions for moving this global clock forward, as well as resetting it."
   ]
  },
  {
   "cell_type": "code",
   "execution_count": null,
   "metadata": {
    "slideshow": {
     "slide_type": "fragment"
    }
   },
   "outputs": [],
   "source": [
    "def set_time(t_new=0):\n",
    "    now.t = t_new\n",
    "    return now()"
   ]
  },
  {
   "cell_type": "code",
   "execution_count": null,
   "metadata": {
    "slideshow": {
     "slide_type": "fragment"
    }
   },
   "outputs": [],
   "source": [
    "# Demo:\n",
    "set_time(5)\n",
    "print(\"Now it's\", now(), \"o'clock.\")"
   ]
  },
  {
   "cell_type": "code",
   "execution_count": null,
   "metadata": {
    "slideshow": {
     "slide_type": "fragment"
    }
   },
   "outputs": [],
   "source": [
    "set_time() # no arg => reset\n",
    "print(\"Can we have a do-over, please? It's now\", now(), \"o'clock.\")"
   ]
  },
  {
   "cell_type": "markdown",
   "metadata": {
    "slideshow": {
     "slide_type": "slide"
    }
   },
   "source": [
    "## Event type ##\n",
    "\n",
    "Let's implement an **event** as a _timestamped_ function. Let's define the `Event` type to be a simple wrapper class with two fields:\n",
    "\n",
    "* `t`: the **timestamp** of the event; and\n",
    "* `f`: the **event handler**, which is a callback function that implements the event. (_Note:_ `f` will map a _(state, event list)_ pair to a new state, but let's defer the exact interface for now.)"
   ]
  },
  {
   "cell_type": "code",
   "execution_count": null,
   "metadata": {
    "slideshow": {
     "slide_type": "fragment"
    }
   },
   "outputs": [],
   "source": [
    "from dataclasses import dataclass, field\n",
    "from typing import Callable\n",
    "\n",
    "@dataclass(order=True)\n",
    "class Event:\n",
    "    t: int\n",
    "    f: Callable=field(compare=False) # ??? — just a sec!"
   ]
  },
  {
   "cell_type": "code",
   "execution_count": null,
   "metadata": {
    "slideshow": {
     "slide_type": "fragment"
    }
   },
   "outputs": [],
   "source": [
    "# Demo:\n",
    "e = Event(3, lambda _1=None, _2=None: \"hello, world\")\n",
    "print(e.t, e.f())"
   ]
  },
  {
   "cell_type": "markdown",
   "metadata": {
    "slideshow": {
     "slide_type": "subslide"
    }
   },
   "source": [
    "**Comparing events.** Recall the funny type annotation attached to the function field, `f`:\n",
    "\n",
    "```python\n",
    "    t: int\n",
    "    f: Callable=field(compare=False) ### ???\n",
    "```\n",
    "\n",
    "Its purpose is to allow the comparison of two events by timestamp only."
   ]
  },
  {
   "cell_type": "code",
   "execution_count": null,
   "metadata": {
    "slideshow": {
     "slide_type": "fragment"
    }
   },
   "outputs": [],
   "source": [
    "e1 = Event(3, lambda _1=None, _2=None: \"me first\")\n",
    "e2 = Event(7, lambda _1=None, _2=None: \"me second\")\n",
    "\n",
    "print(\"Is `e1 < e2`? ==>\", e1 < e2)"
   ]
  },
  {
   "cell_type": "markdown",
   "metadata": {
    "slideshow": {
     "slide_type": "slide"
    }
   },
   "source": [
    "## Future event list ##\n",
    "\n",
    "We need a priority queue data structure for the future event list. The simplest one is, arguably, Python's [`heapq` module](https://docs.python.org/3/library/heapq.html#priority-queue-implementation-notes).\n",
    "\n",
    "Let's wrap it in a basic iterator API."
   ]
  },
  {
   "cell_type": "code",
   "execution_count": null,
   "metadata": {
    "slideshow": {
     "slide_type": "subslide"
    }
   },
   "outputs": [],
   "source": [
    "class FutureEventList:\n",
    "    def __init__(self):\n",
    "        self.events = []\n",
    "        \n",
    "    def __iter__(self):\n",
    "        return self\n",
    "    \n",
    "    def __next__(self) -> Event:\n",
    "        from heapq import heappop\n",
    "        if self.events:\n",
    "            return heappop(self.events)\n",
    "        raise StopIteration\n",
    "    \n",
    "    def __repr__(self) -> str:\n",
    "        from pprint import pformat\n",
    "        return pformat(self.events)"
   ]
  },
  {
   "cell_type": "code",
   "execution_count": null,
   "metadata": {
    "slideshow": {
     "slide_type": "fragment"
    }
   },
   "outputs": [],
   "source": [
    "# Demo:\n",
    "event_list = FutureEventList()\n",
    "event_list"
   ]
  },
  {
   "cell_type": "markdown",
   "metadata": {
    "slideshow": {
     "slide_type": "subslide"
    }
   },
   "source": [
    "In addition, let's define a function to \"schedule\" (insert) a new event into the event list."
   ]
  },
  {
   "cell_type": "code",
   "execution_count": null,
   "metadata": {
    "slideshow": {
     "slide_type": "fragment"
    }
   },
   "outputs": [],
   "source": [
    "def schedule(e: Event, fev: FutureEventList):\n",
    "    from heapq import heappush\n",
    "    heappush(fev.events, e)"
   ]
  },
  {
   "cell_type": "code",
   "execution_count": null,
   "metadata": {
    "slideshow": {
     "slide_type": "fragment"
    }
   },
   "outputs": [],
   "source": [
    "# Recall:\n",
    "print(\"Recall events:\")\n",
    "print(\"* `e1`:\", e1)\n",
    "print(\"* `e2`:\", e2)"
   ]
  },
  {
   "cell_type": "code",
   "execution_count": null,
   "metadata": {
    "slideshow": {
     "slide_type": "fragment"
    }
   },
   "outputs": [],
   "source": [
    "# Insert them, but in _reverse_ chronological order:\n",
    "schedule(e2, event_list)\n",
    "schedule(e1, event_list)"
   ]
  },
  {
   "cell_type": "code",
   "execution_count": null,
   "metadata": {
    "slideshow": {
     "slide_type": "fragment"
    }
   },
   "outputs": [],
   "source": [
    "print(\"\\n* Did it work? Let's see:\\n\")\n",
    "print(event_list)"
   ]
  },
  {
   "cell_type": "markdown",
   "metadata": {
    "slideshow": {
     "slide_type": "subslide"
    }
   },
   "source": [
    "In addition, the choice to implement an iterator API makes event loops easy!"
   ]
  },
  {
   "cell_type": "code",
   "execution_count": null,
   "metadata": {
    "slideshow": {
     "slide_type": "fragment"
    }
   },
   "outputs": [],
   "source": [
    "event_list = FutureEventList()\n",
    "schedule(e2, event_list)\n",
    "schedule(e1, event_list)\n",
    "print(event_list)"
   ]
  },
  {
   "cell_type": "code",
   "execution_count": null,
   "metadata": {
    "slideshow": {
     "slide_type": "fragment"
    }
   },
   "outputs": [],
   "source": [
    "for e in event_list:\n",
    "    print(e)"
   ]
  },
  {
   "cell_type": "markdown",
   "metadata": {
    "slideshow": {
     "slide_type": "slide"
    }
   },
   "source": [
    "## Simulation engine (executive) ##\n",
    "\n",
    "The last piece of infrastructure we need is the _simulation engine_ or _simulation executive_."
   ]
  },
  {
   "cell_type": "code",
   "execution_count": null,
   "metadata": {
    "slideshow": {
     "slide_type": "fragment"
    }
   },
   "outputs": [],
   "source": [
    "def simulate(state, event_list, verbose=True):\n",
    "    for e in event_list:\n",
    "        set_time(e.t)\n",
    "        state = e.f(state, event_list)\n",
    "        if verbose: print(f\"[t={e.t}] {state}\")"
   ]
  },
  {
   "cell_type": "markdown",
   "metadata": {
    "slideshow": {
     "slide_type": "fragment"
    }
   },
   "source": [
    "Here, we see the precise interface for event handlers: they map an initial state _and_ an event list to a new state.\n",
    "\n",
    "It must also accept an event list since **events can schedule new events.**"
   ]
  },
  {
   "cell_type": "markdown",
   "metadata": {
    "slideshow": {
     "slide_type": "subslide"
    }
   },
   "source": [
    "Here's a quick demo. Recall the signature of `simulate`:\n",
    "\n",
    "```python\n",
    "def simulate(state, event_list, ...):\n",
    "    ...\n",
    "```"
   ]
  },
  {
   "cell_type": "code",
   "execution_count": null,
   "metadata": {
    "slideshow": {
     "slide_type": "fragment"
    }
   },
   "outputs": [],
   "source": [
    "event_list = FutureEventList() # Example event list\n",
    "schedule(e2, event_list)\n",
    "schedule(e1, event_list)\n",
    "print(event_list)"
   ]
  },
  {
   "cell_type": "code",
   "execution_count": null,
   "metadata": {
    "slideshow": {
     "slide_type": "fragment"
    }
   },
   "outputs": [],
   "source": [
    "print(f\"* Initial event list:\\n{event_list}\")\n",
    "print(\"\\n* Let's go!\\n\")\n",
    "simulate({}, event_list)"
   ]
  },
  {
   "cell_type": "markdown",
   "metadata": {
    "slideshow": {
     "slide_type": "slide"
    }
   },
   "source": [
    "## Example simulation: Airport model ##\n",
    "\n",
    "![Summary of the airport model](airport-event-summary.png)"
   ]
  },
  {
   "cell_type": "code",
   "execution_count": null,
   "metadata": {
    "slideshow": {
     "slide_type": "fragment"
    }
   },
   "outputs": [],
   "source": [
    "R = 3  # Time using the runway\n",
    "G = 4  # Time on the ground"
   ]
  },
  {
   "cell_type": "code",
   "execution_count": null,
   "metadata": {
    "slideshow": {
     "slide_type": "fragment"
    }
   },
   "outputs": [],
   "source": [
    "def initial_state():\n",
    "    return {'in_air': 0,         # No. of aircraft landing or waiting to do so\n",
    "            'on_ground': 0,      # No. of landed aircraft (on the ground, prior to departing)\n",
    "            'runway_free': True} # Is runway free?\n",
    "\n",
    "print(initial_state())"
   ]
  },
  {
   "cell_type": "markdown",
   "metadata": {
    "slideshow": {
     "slide_type": "subslide"
    }
   },
   "source": [
    "![Summary of the airport model](airport-event-summary.png)"
   ]
  },
  {
   "cell_type": "markdown",
   "metadata": {
    "slideshow": {
     "slide_type": "-"
    }
   },
   "source": [
    "We need three types of events: `arrived`, `landed`, and `departed`."
   ]
  },
  {
   "cell_type": "markdown",
   "metadata": {
    "slideshow": {
     "slide_type": "fragment"
    }
   },
   "source": [
    "* **Arrived:** An aircraft has arrived at the airport. If the runway is free, it can land by occupying the runway and scheduling a landing event `R` timesteps in the future. Otherwise, it should wait in the (logical) \"in-air\" queue."
   ]
  },
  {
   "cell_type": "markdown",
   "metadata": {
    "slideshow": {
     "slide_type": "subslide"
    }
   },
   "source": [
    "![Summary of the airport model](airport-event-summary.png)"
   ]
  },
  {
   "cell_type": "markdown",
   "metadata": {
    "slideshow": {
     "slide_type": "-"
    }
   },
   "source": [
    "* **Landed**: An aircraft has landed. It no longer needs the runway. It can now sit on the ground and schedule a `departed` event for `G` timesteps later. It can also schedule a landing event for any other in-air aircraft."
   ]
  },
  {
   "cell_type": "markdown",
   "metadata": {
    "slideshow": {
     "slide_type": "subslide"
    }
   },
   "source": [
    "![Summary of the airport model](airport-event-summary.png)"
   ]
  },
  {
   "cell_type": "markdown",
   "metadata": {
    "slideshow": {
     "slide_type": "-"
    }
   },
   "source": [
    "* **Departed:** An aircraft has \"left the building\" (airport). It's no longer on the ground. Also recall that we are only modeling arrival runway traffic, assuming any number of aircraft can leave without additional waiting."
   ]
  },
  {
   "cell_type": "markdown",
   "metadata": {
    "slideshow": {
     "slide_type": "subslide"
    }
   },
   "source": [
    "![Summary of the airport model](airport-event-summary.png)"
   ]
  },
  {
   "cell_type": "code",
   "execution_count": null,
   "metadata": {
    "slideshow": {
     "slide_type": "fragment"
    }
   },
   "outputs": [],
   "source": [
    "def arrived(s, fev):\n",
    "    s['in_air'] += 1\n",
    "    if s['runway_free']:\n",
    "        s['runway_free'] = False\n",
    "        schedule(Event(now() + R, landed), fev)\n",
    "    return s"
   ]
  },
  {
   "cell_type": "markdown",
   "metadata": {
    "slideshow": {
     "slide_type": "subslide"
    }
   },
   "source": [
    "![Summary of the airport model](airport-event-summary.png)"
   ]
  },
  {
   "cell_type": "code",
   "execution_count": null,
   "metadata": {
    "slideshow": {
     "slide_type": "-"
    }
   },
   "outputs": [],
   "source": [
    "def landed(s, fev):\n",
    "    assert not s['runway_free']\n",
    "    s['in_air'] -= 1\n",
    "    s['on_ground'] += 1\n",
    "    schedule(Event(now() + G, departed), fev)\n",
    "    if s['in_air']:\n",
    "        schedule(Event(now() + R, landed), fev)\n",
    "    else:\n",
    "        s['runway_free'] = True\n",
    "    return s"
   ]
  },
  {
   "cell_type": "markdown",
   "metadata": {
    "slideshow": {
     "slide_type": "subslide"
    }
   },
   "source": [
    "![Summary of the airport model](airport-event-summary.png)"
   ]
  },
  {
   "cell_type": "code",
   "execution_count": null,
   "metadata": {
    "slideshow": {
     "slide_type": "-"
    }
   },
   "outputs": [],
   "source": [
    "def departed(s, fev):\n",
    "    s['on_ground'] -= 1\n",
    "    return s"
   ]
  },
  {
   "cell_type": "markdown",
   "metadata": {
    "slideshow": {
     "slide_type": "slide"
    }
   },
   "source": [
    "## Let's simulate! ##"
   ]
  },
  {
   "cell_type": "code",
   "execution_count": null,
   "metadata": {
    "slideshow": {
     "slide_type": "fragment"
    }
   },
   "outputs": [],
   "source": [
    "event_list = FutureEventList()\n",
    "state = initial_state()\n",
    "\n",
    "schedule(Event(1, arrived), event_list)\n",
    "schedule(Event(3, arrived), event_list)"
   ]
  },
  {
   "cell_type": "code",
   "execution_count": null,
   "metadata": {
    "slideshow": {
     "slide_type": "fragment"
    }
   },
   "outputs": [],
   "source": [
    "simulate(state, event_list)"
   ]
  },
  {
   "cell_type": "code",
   "execution_count": null,
   "metadata": {
    "slideshow": {
     "slide_type": "slide"
    }
   },
   "outputs": [],
   "source": [
    "## (end demo) ##"
   ]
  }
 ],
 "metadata": {
  "celltoolbar": "Slideshow",
  "kernelspec": {
   "display_name": "Python 3",
   "language": "python",
   "name": "python3"
  },
  "language_info": {
   "codemirror_mode": {
    "name": "ipython",
    "version": 3
   },
   "file_extension": ".py",
   "mimetype": "text/x-python",
   "name": "python",
   "nbconvert_exporter": "python",
   "pygments_lexer": "ipython3",
   "version": "3.8.5"
  },
  "toc": {
   "base_numbering": 1,
   "nav_menu": {},
   "number_sections": true,
   "sideBar": true,
   "skip_h1_title": false,
   "title_cell": "Table of Contents",
   "title_sidebar": "Contents",
   "toc_cell": false,
   "toc_position": {},
   "toc_section_display": true,
   "toc_window_display": false
  }
 },
 "nbformat": 4,
 "nbformat_minor": 4
}
